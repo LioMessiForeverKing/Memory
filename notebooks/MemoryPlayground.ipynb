{
 "cells": [
  {
   "cell_type": "code",
   "execution_count": null,
   "metadata": {},
   "outputs": [],
   "source": [
    "# Memory Playground\\n\\nfrom memory_lab import HopfieldNetwork\\nimport numpy as np\\n\\n# Quick demo cell\\nrng = np.random.default_rng(123)\\nnum_units = 36\\npatterns = rng.choice([-1, 1], size=(3, num_units))\\nnet = HopfieldNetwork(num_units)\\nnet.train(patterns)\\n\\ntarget = patterns[0]\\nnoisy = HopfieldNetwork.flip_bits(target, num_flips=6, rng=rng)\\nrecalled, traj = net.recall(noisy, return_trajectory=True)\\n\\nprint('Hamming(noisy,target):', int((noisy != target).sum()))\\nprint('Hamming(recalled,target):', int((recalled != target).sum()))\\nprint('Steps:', len(traj)-1)\\n\n"
   ]
  }
 ],
 "metadata": {
  "kernelspec": {
   "display_name": "Python 3 (ipykernel)",
   "language": "python",
   "name": "python3"
  },
  "language_info": {
   "codemirror_mode": {
    "name": "ipython",
    "version": 3
   },
   "file_extension": ".py",
   "mimetype": "text/x-python",
   "name": "python",
   "nbconvert_exporter": "python",
   "pygments_lexer": "ipython3",
   "version": "3.13.5"
  }
 },
 "nbformat": 4,
 "nbformat_minor": 4
}
