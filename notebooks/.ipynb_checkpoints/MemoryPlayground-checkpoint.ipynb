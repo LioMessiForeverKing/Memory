{
  "cells": [
    {
      "cell_type": "code",
      "execution_count": null,
      "metadata": {},
      "outputs": [],
      "source": [
        "# Memory Playground\\n\\nfrom memory_lab import HopfieldNetwork\\nimport numpy as np\\n\\n# Quick demo cell\\nrng = np.random.default_rng(123)\\nnum_units = 36\\npatterns = rng.choice([-1, 1], size=(3, num_units))\\nnet = HopfieldNetwork(num_units)\\nnet.train(patterns)\\n\\ntarget = patterns[0]\\nnoisy = HopfieldNetwork.flip_bits(target, num_flips=6, rng=rng)\\nrecalled, traj = net.recall(noisy, return_trajectory=True)\\n\\nprint('Hamming(noisy,target):', int((noisy != target).sum()))\\nprint('Hamming(recalled,target):', int((recalled != target).sum()))\\nprint('Steps:', len(traj)-1)\\n\n"
      ]
    }
  ],
  "metadata": {
    "language_info": {
      "name": "python"
    }
  },
  "nbformat": 4,
  "nbformat_minor": 2
}
